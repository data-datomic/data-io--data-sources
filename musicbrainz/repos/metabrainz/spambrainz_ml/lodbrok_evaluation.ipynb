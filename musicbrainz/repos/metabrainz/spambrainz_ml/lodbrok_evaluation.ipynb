{
 "cells": [
  {
   "cell_type": "markdown",
   "metadata": {},
   "source": [
    "# Lodbrok model evaluation\n",
    "Lodbrok is a neural network using the Keras library which can detect MusicBrainz editors that purely create spam. Often the editors' intent is to improve SEO for other websites.\n",
    "\n",
    "Lodbrok runs on a pre-processed dataset as described in the `dataset_generation.ipynb` notebook."
   ]
  },
  {
   "cell_type": "markdown",
   "metadata": {},
   "source": [
    "## Network layout\n",
    "![network layout](lodbrok.png)\n",
    "Lodbrok receives four different inputs which are sub-arrays of the pre-processed input datum.\n",
    "The website and email inputs have respectively been tokenized to their top 1024 entries and are embedded into 256-dimensional vectors. Meanwhile the user biography input is just reshaped into one 512-dimensional vector, as it is already quasi-embedded.\n",
    "\n",
    "All three inputs are then passed into LSTMs where the bio-LSTM has an output twice as large as the others.\n",
    "\n",
    "The outputs of the LSTMS are then concatenated with the other inputs (area set, non-zero privs, bio length, etc.) and passed into a stack of two fully-connected layers with 64 neurons and 50% dropout each.\n",
    "\n",
    "The output layer consists of two neurons that represent the classification confidence for each category (spam and non-spam) and are activated using softmax so that their sum will always be one."
   ]
  },
  {
   "cell_type": "markdown",
   "metadata": {},
   "source": [
    "## Evaluation on different datasets"
   ]
  },
  {
   "cell_type": "code",
   "execution_count": 1,
   "metadata": {},
   "outputs": [
    {
     "name": "stderr",
     "output_type": "stream",
     "text": [
      "Using TensorFlow backend.\n"
     ]
    }
   ],
   "source": [
    "import sys\n",
    "sys.path.append(\"..\")\n",
    "\n",
    "import keras\n",
    "from utils.evaluation import evaluate, print_stats"
   ]
  },
  {
   "cell_type": "markdown",
   "metadata": {},
   "source": [
    "### Accuracy on evaluation dataset\n",
    "500 spam non-spam entries each which the model has never seen before."
   ]
  },
  {
   "cell_type": "code",
   "execution_count": 2,
   "metadata": {},
   "outputs": [
    {
     "name": "stdout",
     "output_type": "stream",
     "text": [
      "Accuracy: 1.000, T1 error: 0.000, T2 error: 0.000\n",
      "\n",
      "Confidence: Avg. 0.998, Min. 0.662, Max. 1.000, Standard dev. 0.017\n"
     ]
    }
   ],
   "source": [
    "eval = evaluate(\"snapshots/lodbrok-2018-08-08T17:10:00.403928.h5py\", \"../SENSITIVE/spambrainz_dataset_eval.pickle\")\n",
    "print_stats(eval)"
   ]
  },
  {
   "cell_type": "markdown",
   "metadata": {},
   "source": [
    "### Accuracy on entire spam dataset\n",
    "About 150.000 spam editors, 5.000 of which the model has been trained on."
   ]
  },
  {
   "cell_type": "code",
   "execution_count": 3,
   "metadata": {},
   "outputs": [
    {
     "name": "stdout",
     "output_type": "stream",
     "text": [
      "Accuracy: 0.999, T1 error: 0.000, T2 error: 0.001\n",
      "\n",
      "Confidence: Avg. 0.997, Min. 0.000, Max. 1.000, Standard dev. 0.034\n"
     ]
    }
   ],
   "source": [
    "spam = evaluate(\"snapshots/lodbrok-2018-08-08T17:10:00.403928.h5py\", \"../SENSITIVE/spambrainz_dataset_spam.pickle\")\n",
    "print_stats(spam)"
   ]
  },
  {
   "cell_type": "markdown",
   "metadata": {},
   "source": [
    "### Accuracy on entire non-spam dataset\n",
    "Around 8.000 editors, 5.000 of which the model has been trained on."
   ]
  },
  {
   "cell_type": "code",
   "execution_count": 4,
   "metadata": {},
   "outputs": [
    {
     "name": "stdout",
     "output_type": "stream",
     "text": [
      "Accuracy: 0.998, T1 error: 0.002, T2 error: 0.000\n",
      "\n",
      "Confidence: Avg. 0.998, Min. 0.003, Max. 1.000, Standard dev. 0.037\n"
     ]
    }
   ],
   "source": [
    "nonspam = evaluate(\"snapshots/lodbrok-2018-08-08T17:10:00.403928.h5py\", \"../SENSITIVE/spambrainz_dataset_nonspam.pickle\")\n",
    "print_stats(nonspam)"
   ]
  },
  {
   "cell_type": "markdown",
   "metadata": {},
   "source": [
    "In summary the Lodbrok model achieves a very high spam detection rate while simultaneously maintaining a low false positive rate. Data falsely classified by the model should be further examined to determine whether it really is part of the right dataset or whether there is a deficit of a certain type of data.\n",
    "\n",
    "In the authors opinion, Lodbrok is ready for usage in production."
   ]
  }
 ],
 "metadata": {
  "kernelspec": {
   "display_name": "spambrainz-ml",
   "language": "python",
   "name": "spambrainz-ml"
  },
  "language_info": {
   "codemirror_mode": {
    "name": "ipython",
    "version": 3
   },
   "file_extension": ".py",
   "mimetype": "text/x-python",
   "name": "python",
   "nbconvert_exporter": "python",
   "pygments_lexer": "ipython3",
   "version": "3.7.0"
  }
 },
 "nbformat": 4,
 "nbformat_minor": 2
}
